{
 "cells": [
  {
   "cell_type": "code",
   "execution_count": 1,
   "id": "b3a792a8",
   "metadata": {},
   "outputs": [],
   "source": [
    "import numpy as np\n",
    "import pandas as pd\n",
    "import matplotlib.pyplot as plt\n",
    "%matplotlib inline\n",
    "import matplotlib as mp\n",
    "import seaborn as sns\n",
    "import os\n",
    "import glob\n",
    "import warnings\n",
    "warnings.filterwarnings('ignore')\n",
    "plt.style.use ('ggplot')\n",
    "from matplotlib.pyplot import figure\n",
    "mp.rcParams['figure.figsize'] = (10,6)"
   ]
  },
  {
   "cell_type": "code",
   "execution_count": 3,
   "id": "120b16a8",
   "metadata": {},
   "outputs": [
    {
     "data": {
      "text/plain": [
       "'C:\\\\Users\\\\Lawalson\\\\Desktop\\\\ustacky\\\\projects'"
      ]
     },
     "execution_count": 3,
     "metadata": {},
     "output_type": "execute_result"
    }
   ],
   "source": [
    "os.getcwd()"
   ]
  },
  {
   "cell_type": "code",
   "execution_count": 4,
   "id": "4e51b96a",
   "metadata": {},
   "outputs": [],
   "source": [
    "extensions=glob.glob(\"*.csv\")"
   ]
  },
  {
   "cell_type": "code",
   "execution_count": 5,
   "id": "5483620a",
   "metadata": {},
   "outputs": [
    {
     "data": {
      "text/plain": [
       "['adult.data.csv',\n",
       " 'base_submission.csv',\n",
       " 'ds_salaries.csv',\n",
       " 'epa-sea-level.csv',\n",
       " 'fcc-forum-pageviews.csv',\n",
       " 'final_project.csv',\n",
       " 'gender_submission.csv',\n",
       " 'medical_examination.csv',\n",
       " 'new_project_data.csv',\n",
       " 'population_total.csv',\n",
       " 'test.csv',\n",
       " 'train.csv',\n",
       " 'world_population.csv']"
      ]
     },
     "execution_count": 5,
     "metadata": {},
     "output_type": "execute_result"
    }
   ],
   "source": [
    "extensions"
   ]
  },
  {
   "cell_type": "code",
   "execution_count": 3,
   "id": "38e8ced5",
   "metadata": {},
   "outputs": [],
   "source": [
    "df=pd.read_csv('ds_salaries.csv')"
   ]
  },
  {
   "cell_type": "code",
   "execution_count": 7,
   "id": "7e6ffafd",
   "metadata": {},
   "outputs": [
    {
     "data": {
      "text/html": [
       "<div>\n",
       "<style scoped>\n",
       "    .dataframe tbody tr th:only-of-type {\n",
       "        vertical-align: middle;\n",
       "    }\n",
       "\n",
       "    .dataframe tbody tr th {\n",
       "        vertical-align: top;\n",
       "    }\n",
       "\n",
       "    .dataframe thead th {\n",
       "        text-align: right;\n",
       "    }\n",
       "</style>\n",
       "<table border=\"1\" class=\"dataframe\">\n",
       "  <thead>\n",
       "    <tr style=\"text-align: right;\">\n",
       "      <th></th>\n",
       "      <th>Unnamed: 0</th>\n",
       "      <th>work_year</th>\n",
       "      <th>experience_level</th>\n",
       "      <th>employment_type</th>\n",
       "      <th>job_title</th>\n",
       "      <th>salary</th>\n",
       "      <th>salary_currency</th>\n",
       "      <th>salary_in_usd</th>\n",
       "      <th>employee_residence</th>\n",
       "      <th>remote_ratio</th>\n",
       "      <th>company_location</th>\n",
       "      <th>company_size</th>\n",
       "    </tr>\n",
       "  </thead>\n",
       "  <tbody>\n",
       "    <tr>\n",
       "      <th>0</th>\n",
       "      <td>0</td>\n",
       "      <td>2020</td>\n",
       "      <td>MI</td>\n",
       "      <td>FT</td>\n",
       "      <td>Data Scientist</td>\n",
       "      <td>70000</td>\n",
       "      <td>EUR</td>\n",
       "      <td>79833</td>\n",
       "      <td>DE</td>\n",
       "      <td>0</td>\n",
       "      <td>DE</td>\n",
       "      <td>L</td>\n",
       "    </tr>\n",
       "    <tr>\n",
       "      <th>1</th>\n",
       "      <td>1</td>\n",
       "      <td>2020</td>\n",
       "      <td>SE</td>\n",
       "      <td>FT</td>\n",
       "      <td>Machine Learning Scientist</td>\n",
       "      <td>260000</td>\n",
       "      <td>USD</td>\n",
       "      <td>260000</td>\n",
       "      <td>JP</td>\n",
       "      <td>0</td>\n",
       "      <td>JP</td>\n",
       "      <td>S</td>\n",
       "    </tr>\n",
       "    <tr>\n",
       "      <th>2</th>\n",
       "      <td>2</td>\n",
       "      <td>2020</td>\n",
       "      <td>SE</td>\n",
       "      <td>FT</td>\n",
       "      <td>Big Data Engineer</td>\n",
       "      <td>85000</td>\n",
       "      <td>GBP</td>\n",
       "      <td>109024</td>\n",
       "      <td>GB</td>\n",
       "      <td>50</td>\n",
       "      <td>GB</td>\n",
       "      <td>M</td>\n",
       "    </tr>\n",
       "    <tr>\n",
       "      <th>3</th>\n",
       "      <td>3</td>\n",
       "      <td>2020</td>\n",
       "      <td>MI</td>\n",
       "      <td>FT</td>\n",
       "      <td>Product Data Analyst</td>\n",
       "      <td>20000</td>\n",
       "      <td>USD</td>\n",
       "      <td>20000</td>\n",
       "      <td>HN</td>\n",
       "      <td>0</td>\n",
       "      <td>HN</td>\n",
       "      <td>S</td>\n",
       "    </tr>\n",
       "    <tr>\n",
       "      <th>4</th>\n",
       "      <td>4</td>\n",
       "      <td>2020</td>\n",
       "      <td>SE</td>\n",
       "      <td>FT</td>\n",
       "      <td>Machine Learning Engineer</td>\n",
       "      <td>150000</td>\n",
       "      <td>USD</td>\n",
       "      <td>150000</td>\n",
       "      <td>US</td>\n",
       "      <td>50</td>\n",
       "      <td>US</td>\n",
       "      <td>L</td>\n",
       "    </tr>\n",
       "  </tbody>\n",
       "</table>\n",
       "</div>"
      ],
      "text/plain": [
       "   Unnamed: 0  work_year experience_level employment_type  \\\n",
       "0           0       2020               MI              FT   \n",
       "1           1       2020               SE              FT   \n",
       "2           2       2020               SE              FT   \n",
       "3           3       2020               MI              FT   \n",
       "4           4       2020               SE              FT   \n",
       "\n",
       "                    job_title  salary salary_currency  salary_in_usd  \\\n",
       "0              Data Scientist   70000             EUR          79833   \n",
       "1  Machine Learning Scientist  260000             USD         260000   \n",
       "2           Big Data Engineer   85000             GBP         109024   \n",
       "3        Product Data Analyst   20000             USD          20000   \n",
       "4   Machine Learning Engineer  150000             USD         150000   \n",
       "\n",
       "  employee_residence  remote_ratio company_location company_size  \n",
       "0                 DE             0               DE            L  \n",
       "1                 JP             0               JP            S  \n",
       "2                 GB            50               GB            M  \n",
       "3                 HN             0               HN            S  \n",
       "4                 US            50               US            L  "
      ]
     },
     "execution_count": 7,
     "metadata": {},
     "output_type": "execute_result"
    }
   ],
   "source": [
    "df.head()"
   ]
  },
  {
   "cell_type": "code",
   "execution_count": 9,
   "id": "1615cd51",
   "metadata": {},
   "outputs": [
    {
     "name": "stdout",
     "output_type": "stream",
     "text": [
      "<class 'pandas.core.frame.DataFrame'>\n",
      "RangeIndex: 607 entries, 0 to 606\n",
      "Data columns (total 12 columns):\n",
      " #   Column              Non-Null Count  Dtype \n",
      "---  ------              --------------  ----- \n",
      " 0   Unnamed: 0          607 non-null    int64 \n",
      " 1   work_year           607 non-null    int64 \n",
      " 2   experience_level    607 non-null    object\n",
      " 3   employment_type     607 non-null    object\n",
      " 4   job_title           607 non-null    object\n",
      " 5   salary              607 non-null    int64 \n",
      " 6   salary_currency     607 non-null    object\n",
      " 7   salary_in_usd       607 non-null    int64 \n",
      " 8   employee_residence  607 non-null    object\n",
      " 9   remote_ratio        607 non-null    int64 \n",
      " 10  company_location    607 non-null    object\n",
      " 11  company_size        607 non-null    object\n",
      "dtypes: int64(5), object(7)\n",
      "memory usage: 57.0+ KB\n"
     ]
    }
   ],
   "source": [
    "df.info()"
   ]
  },
  {
   "cell_type": "code",
   "execution_count": 15,
   "id": "bddac98b",
   "metadata": {},
   "outputs": [
    {
     "data": {
      "text/plain": [
       "0"
      ]
     },
     "execution_count": 15,
     "metadata": {},
     "output_type": "execute_result"
    }
   ],
   "source": [
    "df.duplicated().sum()"
   ]
  },
  {
   "cell_type": "code",
   "execution_count": 16,
   "id": "2a182256",
   "metadata": {},
   "outputs": [
    {
     "data": {
      "text/html": [
       "<div>\n",
       "<style scoped>\n",
       "    .dataframe tbody tr th:only-of-type {\n",
       "        vertical-align: middle;\n",
       "    }\n",
       "\n",
       "    .dataframe tbody tr th {\n",
       "        vertical-align: top;\n",
       "    }\n",
       "\n",
       "    .dataframe thead th {\n",
       "        text-align: right;\n",
       "    }\n",
       "</style>\n",
       "<table border=\"1\" class=\"dataframe\">\n",
       "  <thead>\n",
       "    <tr style=\"text-align: right;\">\n",
       "      <th></th>\n",
       "      <th>Unnamed: 0</th>\n",
       "      <th>work_year</th>\n",
       "      <th>salary</th>\n",
       "      <th>salary_in_usd</th>\n",
       "      <th>remote_ratio</th>\n",
       "    </tr>\n",
       "  </thead>\n",
       "  <tbody>\n",
       "    <tr>\n",
       "      <th>count</th>\n",
       "      <td>607.000000</td>\n",
       "      <td>607.000000</td>\n",
       "      <td>6.070000e+02</td>\n",
       "      <td>607.000000</td>\n",
       "      <td>607.00000</td>\n",
       "    </tr>\n",
       "    <tr>\n",
       "      <th>mean</th>\n",
       "      <td>303.000000</td>\n",
       "      <td>2021.405272</td>\n",
       "      <td>3.240001e+05</td>\n",
       "      <td>112297.869852</td>\n",
       "      <td>70.92257</td>\n",
       "    </tr>\n",
       "    <tr>\n",
       "      <th>std</th>\n",
       "      <td>175.370085</td>\n",
       "      <td>0.692133</td>\n",
       "      <td>1.544357e+06</td>\n",
       "      <td>70957.259411</td>\n",
       "      <td>40.70913</td>\n",
       "    </tr>\n",
       "    <tr>\n",
       "      <th>min</th>\n",
       "      <td>0.000000</td>\n",
       "      <td>2020.000000</td>\n",
       "      <td>4.000000e+03</td>\n",
       "      <td>2859.000000</td>\n",
       "      <td>0.00000</td>\n",
       "    </tr>\n",
       "    <tr>\n",
       "      <th>25%</th>\n",
       "      <td>151.500000</td>\n",
       "      <td>2021.000000</td>\n",
       "      <td>7.000000e+04</td>\n",
       "      <td>62726.000000</td>\n",
       "      <td>50.00000</td>\n",
       "    </tr>\n",
       "    <tr>\n",
       "      <th>50%</th>\n",
       "      <td>303.000000</td>\n",
       "      <td>2022.000000</td>\n",
       "      <td>1.150000e+05</td>\n",
       "      <td>101570.000000</td>\n",
       "      <td>100.00000</td>\n",
       "    </tr>\n",
       "    <tr>\n",
       "      <th>75%</th>\n",
       "      <td>454.500000</td>\n",
       "      <td>2022.000000</td>\n",
       "      <td>1.650000e+05</td>\n",
       "      <td>150000.000000</td>\n",
       "      <td>100.00000</td>\n",
       "    </tr>\n",
       "    <tr>\n",
       "      <th>max</th>\n",
       "      <td>606.000000</td>\n",
       "      <td>2022.000000</td>\n",
       "      <td>3.040000e+07</td>\n",
       "      <td>600000.000000</td>\n",
       "      <td>100.00000</td>\n",
       "    </tr>\n",
       "  </tbody>\n",
       "</table>\n",
       "</div>"
      ],
      "text/plain": [
       "       Unnamed: 0    work_year        salary  salary_in_usd  remote_ratio\n",
       "count  607.000000   607.000000  6.070000e+02     607.000000     607.00000\n",
       "mean   303.000000  2021.405272  3.240001e+05  112297.869852      70.92257\n",
       "std    175.370085     0.692133  1.544357e+06   70957.259411      40.70913\n",
       "min      0.000000  2020.000000  4.000000e+03    2859.000000       0.00000\n",
       "25%    151.500000  2021.000000  7.000000e+04   62726.000000      50.00000\n",
       "50%    303.000000  2022.000000  1.150000e+05  101570.000000     100.00000\n",
       "75%    454.500000  2022.000000  1.650000e+05  150000.000000     100.00000\n",
       "max    606.000000  2022.000000  3.040000e+07  600000.000000     100.00000"
      ]
     },
     "execution_count": 16,
     "metadata": {},
     "output_type": "execute_result"
    }
   ],
   "source": [
    "df.describe()"
   ]
  },
  {
   "cell_type": "code",
   "execution_count": 51,
   "id": "694eb662",
   "metadata": {},
   "outputs": [
    {
     "data": {
      "text/html": [
       "<div>\n",
       "<style scoped>\n",
       "    .dataframe tbody tr th:only-of-type {\n",
       "        vertical-align: middle;\n",
       "    }\n",
       "\n",
       "    .dataframe tbody tr th {\n",
       "        vertical-align: top;\n",
       "    }\n",
       "\n",
       "    .dataframe thead th {\n",
       "        text-align: right;\n",
       "    }\n",
       "</style>\n",
       "<table border=\"1\" class=\"dataframe\">\n",
       "  <thead>\n",
       "    <tr style=\"text-align: right;\">\n",
       "      <th></th>\n",
       "      <th>count</th>\n",
       "      <th>unique</th>\n",
       "      <th>top</th>\n",
       "      <th>freq</th>\n",
       "    </tr>\n",
       "  </thead>\n",
       "  <tbody>\n",
       "    <tr>\n",
       "      <th>experience_level</th>\n",
       "      <td>607</td>\n",
       "      <td>4</td>\n",
       "      <td>Senior-level</td>\n",
       "      <td>280</td>\n",
       "    </tr>\n",
       "    <tr>\n",
       "      <th>employment_type</th>\n",
       "      <td>607</td>\n",
       "      <td>4</td>\n",
       "      <td>Full-time</td>\n",
       "      <td>588</td>\n",
       "    </tr>\n",
       "    <tr>\n",
       "      <th>job_title</th>\n",
       "      <td>607</td>\n",
       "      <td>50</td>\n",
       "      <td>Data Scientist</td>\n",
       "      <td>143</td>\n",
       "    </tr>\n",
       "    <tr>\n",
       "      <th>salary_currency</th>\n",
       "      <td>607</td>\n",
       "      <td>17</td>\n",
       "      <td>USD</td>\n",
       "      <td>398</td>\n",
       "    </tr>\n",
       "    <tr>\n",
       "      <th>employee_residence</th>\n",
       "      <td>607</td>\n",
       "      <td>57</td>\n",
       "      <td>US</td>\n",
       "      <td>332</td>\n",
       "    </tr>\n",
       "    <tr>\n",
       "      <th>remote_ratio</th>\n",
       "      <td>607</td>\n",
       "      <td>3</td>\n",
       "      <td>Remote</td>\n",
       "      <td>381</td>\n",
       "    </tr>\n",
       "    <tr>\n",
       "      <th>company_location</th>\n",
       "      <td>607</td>\n",
       "      <td>50</td>\n",
       "      <td>US</td>\n",
       "      <td>355</td>\n",
       "    </tr>\n",
       "    <tr>\n",
       "      <th>company_size</th>\n",
       "      <td>607</td>\n",
       "      <td>3</td>\n",
       "      <td>Medium</td>\n",
       "      <td>326</td>\n",
       "    </tr>\n",
       "  </tbody>\n",
       "</table>\n",
       "</div>"
      ],
      "text/plain": [
       "                   count unique             top freq\n",
       "experience_level     607      4    Senior-level  280\n",
       "employment_type      607      4       Full-time  588\n",
       "job_title            607     50  Data Scientist  143\n",
       "salary_currency      607     17             USD  398\n",
       "employee_residence   607     57              US  332\n",
       "remote_ratio         607      3          Remote  381\n",
       "company_location     607     50              US  355\n",
       "company_size         607      3          Medium  326"
      ]
     },
     "execution_count": 51,
     "metadata": {},
     "output_type": "execute_result"
    }
   ],
   "source": [
    "df.describe(include='object').T"
   ]
  },
  {
   "cell_type": "code",
   "execution_count": 4,
   "id": "7a59015c",
   "metadata": {},
   "outputs": [],
   "source": [
    "df.drop(['Unnamed: 0','salary','salary_currency'],axis=1, inplace=True)"
   ]
  },
  {
   "cell_type": "code",
   "execution_count": 22,
   "id": "01214167",
   "metadata": {},
   "outputs": [],
   "source": [
    "cat_columns=[col for col in df.columns if df[col].dtype==\"object\"]"
   ]
  },
  {
   "cell_type": "code",
   "execution_count": 23,
   "id": "c073d05a",
   "metadata": {},
   "outputs": [
    {
     "data": {
      "text/plain": [
       "['experience_level',\n",
       " 'employment_type',\n",
       " 'job_title',\n",
       " 'salary_currency',\n",
       " 'employee_residence',\n",
       " 'company_location',\n",
       " 'company_size']"
      ]
     },
     "execution_count": 23,
     "metadata": {},
     "output_type": "execute_result"
    }
   ],
   "source": [
    "cat_columns"
   ]
  },
  {
   "cell_type": "code",
   "execution_count": 24,
   "id": "110cdef9",
   "metadata": {},
   "outputs": [],
   "source": [
    "columns=['experience_level','employment_type','remote_ratio','company_size']"
   ]
  },
  {
   "cell_type": "code",
   "execution_count": 25,
   "id": "e4460c1e",
   "metadata": {},
   "outputs": [
    {
     "data": {
      "text/plain": [
       "{'experience_level': array(['MI', 'SE', 'EN', 'EX'], dtype=object),\n",
       " 'employment_type': array(['FT', 'CT', 'PT', 'FL'], dtype=object),\n",
       " 'remote_ratio': array([  0,  50, 100], dtype=int64),\n",
       " 'company_size': array(['L', 'S', 'M'], dtype=object)}"
      ]
     },
     "execution_count": 25,
     "metadata": {},
     "output_type": "execute_result"
    }
   ],
   "source": [
    "unique={col: df[col].unique() for col in columns}\n",
    "unique"
   ]
  },
  {
   "cell_type": "code",
   "execution_count": 5,
   "id": "994701e8",
   "metadata": {},
   "outputs": [],
   "source": [
    "df['experience_level'].replace({\"MI\":\"Mid-level\",\"SE\":\"Senior-level\",\"EX\":\"Executive-level\",\"EN\":\"Entry-level\"},inplace=True)\n",
    "df['employment_type'].replace({\"FT\":\"Full-time\",\"CT\":\"Contract\",\"PT\":\"Part-time\",\"FL\":\"Freelance\"},inplace= True)\n",
    "df['company_size'].replace({\"S\":\"Small\",\"L\":\"Large\",\"M\":\"Medium\"},inplace= True)\n",
    "df['remote_ratio'].replace({0 :\"Onsite\",50:\"Hybrid\",100:\"Remote\"},inplace= True)"
   ]
  },
  {
   "cell_type": "code",
   "execution_count": 29,
   "id": "0ac88fed",
   "metadata": {},
   "outputs": [
    {
     "data": {
      "text/html": [
       "<div>\n",
       "<style scoped>\n",
       "    .dataframe tbody tr th:only-of-type {\n",
       "        vertical-align: middle;\n",
       "    }\n",
       "\n",
       "    .dataframe tbody tr th {\n",
       "        vertical-align: top;\n",
       "    }\n",
       "\n",
       "    .dataframe thead th {\n",
       "        text-align: right;\n",
       "    }\n",
       "</style>\n",
       "<table border=\"1\" class=\"dataframe\">\n",
       "  <thead>\n",
       "    <tr style=\"text-align: right;\">\n",
       "      <th></th>\n",
       "      <th>work_year</th>\n",
       "      <th>experience_level</th>\n",
       "      <th>employment_type</th>\n",
       "      <th>job_title</th>\n",
       "      <th>salary</th>\n",
       "      <th>salary_currency</th>\n",
       "      <th>salary_in_usd</th>\n",
       "      <th>employee_residence</th>\n",
       "      <th>remote_ratio</th>\n",
       "      <th>company_location</th>\n",
       "      <th>company_size</th>\n",
       "    </tr>\n",
       "  </thead>\n",
       "  <tbody>\n",
       "    <tr>\n",
       "      <th>0</th>\n",
       "      <td>2020</td>\n",
       "      <td>Mid-level</td>\n",
       "      <td>Full-time</td>\n",
       "      <td>Data Scientist</td>\n",
       "      <td>70000</td>\n",
       "      <td>EUR</td>\n",
       "      <td>79833</td>\n",
       "      <td>DE</td>\n",
       "      <td>Onsite</td>\n",
       "      <td>DE</td>\n",
       "      <td>Large</td>\n",
       "    </tr>\n",
       "    <tr>\n",
       "      <th>1</th>\n",
       "      <td>2020</td>\n",
       "      <td>Senior-level</td>\n",
       "      <td>Full-time</td>\n",
       "      <td>Machine Learning Scientist</td>\n",
       "      <td>260000</td>\n",
       "      <td>USD</td>\n",
       "      <td>260000</td>\n",
       "      <td>JP</td>\n",
       "      <td>Onsite</td>\n",
       "      <td>JP</td>\n",
       "      <td>Small</td>\n",
       "    </tr>\n",
       "    <tr>\n",
       "      <th>2</th>\n",
       "      <td>2020</td>\n",
       "      <td>Senior-level</td>\n",
       "      <td>Full-time</td>\n",
       "      <td>Big Data Engineer</td>\n",
       "      <td>85000</td>\n",
       "      <td>GBP</td>\n",
       "      <td>109024</td>\n",
       "      <td>GB</td>\n",
       "      <td>Hybrid</td>\n",
       "      <td>GB</td>\n",
       "      <td>Medium</td>\n",
       "    </tr>\n",
       "    <tr>\n",
       "      <th>3</th>\n",
       "      <td>2020</td>\n",
       "      <td>Mid-level</td>\n",
       "      <td>Full-time</td>\n",
       "      <td>Product Data Analyst</td>\n",
       "      <td>20000</td>\n",
       "      <td>USD</td>\n",
       "      <td>20000</td>\n",
       "      <td>HN</td>\n",
       "      <td>Onsite</td>\n",
       "      <td>HN</td>\n",
       "      <td>Small</td>\n",
       "    </tr>\n",
       "    <tr>\n",
       "      <th>4</th>\n",
       "      <td>2020</td>\n",
       "      <td>Senior-level</td>\n",
       "      <td>Full-time</td>\n",
       "      <td>Machine Learning Engineer</td>\n",
       "      <td>150000</td>\n",
       "      <td>USD</td>\n",
       "      <td>150000</td>\n",
       "      <td>US</td>\n",
       "      <td>Hybrid</td>\n",
       "      <td>US</td>\n",
       "      <td>Large</td>\n",
       "    </tr>\n",
       "  </tbody>\n",
       "</table>\n",
       "</div>"
      ],
      "text/plain": [
       "   work_year experience_level employment_type                   job_title  \\\n",
       "0       2020        Mid-level       Full-time              Data Scientist   \n",
       "1       2020     Senior-level       Full-time  Machine Learning Scientist   \n",
       "2       2020     Senior-level       Full-time           Big Data Engineer   \n",
       "3       2020        Mid-level       Full-time        Product Data Analyst   \n",
       "4       2020     Senior-level       Full-time   Machine Learning Engineer   \n",
       "\n",
       "   salary salary_currency  salary_in_usd employee_residence remote_ratio  \\\n",
       "0   70000             EUR          79833                 DE       Onsite   \n",
       "1  260000             USD         260000                 JP       Onsite   \n",
       "2   85000             GBP         109024                 GB       Hybrid   \n",
       "3   20000             USD          20000                 HN       Onsite   \n",
       "4  150000             USD         150000                 US       Hybrid   \n",
       "\n",
       "  company_location company_size  \n",
       "0               DE        Large  \n",
       "1               JP        Small  \n",
       "2               GB       Medium  \n",
       "3               HN        Small  \n",
       "4               US        Large  "
      ]
     },
     "execution_count": 29,
     "metadata": {},
     "output_type": "execute_result"
    }
   ],
   "source": [
    "df.head()"
   ]
  },
  {
   "cell_type": "code",
   "execution_count": null,
   "id": "2e9597d3",
   "metadata": {},
   "outputs": [],
   "source": [
    "def full_time (df,x,y):\n",
    "    return corr=df1.groupby(by=['x','y']).size()"
   ]
  },
  {
   "cell_type": "markdown",
   "id": "ba2fbf6d",
   "metadata": {},
   "source": [
    "## Single column analysis"
   ]
  },
  {
   "cell_type": "code",
   "execution_count": 33,
   "id": "acaeb58f",
   "metadata": {},
   "outputs": [
    {
     "data": {
      "text/plain": [
       "<AxesSubplot:xlabel='experience_level', ylabel='count'>"
      ]
     },
     "execution_count": 33,
     "metadata": {},
     "output_type": "execute_result"
    },
    {
     "data": {
      "image/png": "[encoded data removed]",
      "text/plain": [
       "<Figure size 432x288 with 1 Axes>"
      ]
     },
     "metadata": {
      "needs_background": "light"
     },
     "output_type": "display_data"
    }
   ],
   "source": [
    "order=df['experience_level'].value_counts()\n",
    "sns.countplot(data=df, x='experience_level', order=order.index)"
   ]
  },
  {
   "cell_type": "code",
   "execution_count": 220,
   "id": "c3ad4d70",
   "metadata": {},
   "outputs": [],
   "source": [
    "staff=df['job_title'].value_counts()[:10]\n",
    "staff=staff.reset_index()\n",
    "staff.set_index('index', inplace=True)\n",
    "staffss = df[df['job_title'].isin(staff.index)]\n",
    "order=staffss['job_title'].value_counts().index"
   ]
  },
  {
   "cell_type": "code",
   "execution_count": 221,
   "id": "a5298977",
   "metadata": {},
   "outputs": [
    {
     "data": {
      "text/plain": [
       "<AxesSubplot:xlabel='count', ylabel='job_title'>"
      ]
     },
     "execution_count": 221,
     "metadata": {},
     "output_type": "execute_result"
    },
    {
     "data": {
      "image/png": "[encoded data removed]",
      "text/plain": [
       "<Figure size 720x432 with 1 Axes>"
      ]
     },
     "metadata": {},
     "output_type": "display_data"
    }
   ],
   "source": [
    "sns.countplot(data=staffss, y='job_title', order=order)"
   ]
  },
  {
   "cell_type": "code",
   "execution_count": 62,
   "id": "ccd0f603",
   "metadata": {},
   "outputs": [
    {
     "data": {
      "text/plain": [
       "<AxesSubplot:xlabel='employment_type', ylabel='count'>"
      ]
     },
     "execution_count": 62,
     "metadata": {},
     "output_type": "execute_result"
    },
    {
     "data": {
      "image/png": "[encoded data removed]",
      "text/plain": [
       "<Figure size 432x288 with 1 Axes>"
      ]
     },
     "metadata": {
      "needs_background": "light"
     },
     "output_type": "display_data"
    }
   ],
   "source": [
    "sns.countplot(data=df, x='employment_type')"
   ]
  },
  {
   "cell_type": "code",
   "execution_count": 219,
   "id": "6cfd8a96",
   "metadata": {},
   "outputs": [
    {
     "data": {
      "text/plain": [
       "Text(0.5, 1.0, 'Remote ratio')"
      ]
     },
     "execution_count": 219,
     "metadata": {},
     "output_type": "execute_result"
    },
    {
     "data": {
      "image/png": "[encoded data removed]",
      "text/plain": [
       "<Figure size 720x432 with 1 Axes>"
      ]
     },
     "metadata": {},
     "output_type": "display_data"
    }
   ],
   "source": [
    "remote=df['remote_ratio'].value_counts()\n",
    "plt.pie(remote.values, labels=remote.index, autopct='%0.1f%%',radius=1.0, startangle=180, explode=[0,0,0.2])\n",
    "plt.title('Remote ratio', weight='bold')\n",
    "plt.title(\"Remote ratio\", bbox={'facecolor':'0.8', 'pad':5})"
   ]
  },
  {
   "cell_type": "markdown",
   "id": "fce9c49c",
   "metadata": {},
   "source": [
    "## Double column analysis"
   ]
  },
  {
   "cell_type": "code",
   "execution_count": 217,
   "id": "e90f9cb8",
   "metadata": {},
   "outputs": [],
   "source": [
    "remote= df.groupby(['remote_ratio','work_year']).size()\n",
    "remote=remote.reset_index().rename(columns={0:'counts'})"
   ]
  },
  {
   "cell_type": "code",
   "execution_count": 218,
   "id": "98aab7b6",
   "metadata": {},
   "outputs": [
    {
     "data": {
      "text/plain": [
       "<AxesSubplot:xlabel='work_year', ylabel='counts'>"
      ]
     },
     "execution_count": 218,
     "metadata": {},
     "output_type": "execute_result"
    },
    {
     "data": {
      "image/png": "[encoded data removed]",
      "text/plain": [
       "<Figure size 720x432 with 1 Axes>"
      ]
     },
     "metadata": {},
     "output_type": "display_data"
    }
   ],
   "source": [
    "sns.barplot(data=remote, x='work_year',y='counts',hue='remote_ratio')\n",
    "\n"
   ]
  },
  {
   "cell_type": "markdown",
   "id": "a098bf54",
   "metadata": {},
   "source": [
    "As expected there is a rapid growth in workers opting to work remotely"
   ]
  },
  {
   "cell_type": "markdown",
   "id": "fcb4f550",
   "metadata": {},
   "source": [
    "lets see if it affects their salary"
   ]
  },
  {
   "cell_type": "code",
   "execution_count": 76,
   "id": "605414f0",
   "metadata": {},
   "outputs": [],
   "source": [
    "rate=df.groupby(['remote_ratio','salary_in_usd']).size()\n",
    "rate=rate.reset_index().rename(columns={0:'count'})"
   ]
  },
  {
   "cell_type": "code",
   "execution_count": 213,
   "id": "bc671fea",
   "metadata": {},
   "outputs": [
    {
     "data": {
      "text/plain": [
       "<AxesSubplot:xlabel='remote_ratio', ylabel='salary_in_usd'>"
      ]
     },
     "execution_count": 213,
     "metadata": {},
     "output_type": "execute_result"
    },
    {
     "data": {
      "image/png": "[encoded data removed]",
      "text/plain": [
       "<Figure size 720x432 with 1 Axes>"
      ]
     },
     "metadata": {},
     "output_type": "display_data"
    }
   ],
   "source": [
    "sns.boxplot(data=rate,x='remote_ratio',y='salary_in_usd')"
   ]
  },
  {
   "cell_type": "markdown",
   "id": "2e9b8201",
   "metadata": {},
   "source": [
    "with this chart we can see the salary is even higher for remote staffs"
   ]
  },
  {
   "cell_type": "markdown",
   "id": "fbcf8476",
   "metadata": {},
   "source": [
    "lets check for the growth of companies that need data related specialist"
   ]
  },
  {
   "cell_type": "code",
   "execution_count": 83,
   "id": "6dd17c42",
   "metadata": {},
   "outputs": [],
   "source": [
    "growth=df.groupby(['work_year','company_size']).size()\n",
    "growth=growth.reset_index().rename(columns={0:'count'})"
   ]
  },
  {
   "cell_type": "code",
   "execution_count": 212,
   "id": "4ebe450b",
   "metadata": {},
   "outputs": [
    {
     "data": {
      "text/plain": [
       "<AxesSubplot:xlabel='work_year', ylabel='count'>"
      ]
     },
     "execution_count": 212,
     "metadata": {},
     "output_type": "execute_result"
    },
    {
     "data": {
      "image/png": "[encoded data removed]",
      "text/plain": [
       "<Figure size 720x432 with 1 Axes>"
      ]
     },
     "metadata": {},
     "output_type": "display_data"
    }
   ],
   "source": [
    "sns.lineplot(data=growth, x='work_year', y='count',hue='company_size')"
   ]
  },
  {
   "cell_type": "markdown",
   "id": "c914e883",
   "metadata": {},
   "source": [
    "this plot shows the growth of well funded  medium companies, and the decline of small start ups and big companies"
   ]
  },
  {
   "cell_type": "markdown",
   "id": "5759eb0d",
   "metadata": {},
   "source": [
    "lets check for which positions are mostly employed in regards to the size of the companies"
   ]
  },
  {
   "cell_type": "code",
   "execution_count": 184,
   "id": "73db9b1f",
   "metadata": {},
   "outputs": [],
   "source": [
    "rat=df.groupby(['company_size','job_title']).size()\n",
    "rat=rat.reset_index().rename(columns={0:'counts'}).sort_values('counts',ascending=False)[:10]\n",
    "rat.set_index('job_title')"
   ]
  },
  {
   "cell_type": "code",
   "execution_count": 211,
   "id": "a3d951d6",
   "metadata": {},
   "outputs": [
    {
     "data": {
      "text/plain": [
       "<AxesSubplot:xlabel='job_title', ylabel='counts'>"
      ]
     },
     "execution_count": 211,
     "metadata": {},
     "output_type": "execute_result"
    },
    {
     "data": {
      "image/png": "[encoded data removed]",
      "text/plain": [
       "<Figure size 720x432 with 1 Axes>"
      ]
     },
     "metadata": {},
     "output_type": "display_data"
    }
   ],
   "source": [
    "sns.barplot(data=rat, x='job_title',hue='company_size',y='counts')\n"
   ]
  },
  {
   "cell_type": "markdown",
   "id": "324b982c",
   "metadata": {},
   "source": [
    "with this we can say the most prevalent job title in various company size is Data science"
   ]
  },
  {
   "cell_type": "code",
   "execution_count": 98,
   "id": "424b6ef0",
   "metadata": {},
   "outputs": [],
   "source": [
    "title=df.groupby(['job_title','salary_in_usd']).size()\n",
    "title=title.reset_index().rename(columns={0:'counts'}).sort_values('salary_in_usd', ascending=False)\n",
    "title=title.drop('counts', axis=1)[:10]"
   ]
  },
  {
   "cell_type": "code",
   "execution_count": 214,
   "id": "5d8f1050",
   "metadata": {},
   "outputs": [
    {
     "data": {
      "text/plain": [
       "<AxesSubplot:xlabel='salary_in_usd', ylabel='job_title'>"
      ]
     },
     "execution_count": 214,
     "metadata": {},
     "output_type": "execute_result"
    },
    {
     "data": {
      "image/png": "[encoded data removed]",
      "text/plain": [
       "<Figure size 720x432 with 1 Axes>"
      ]
     },
     "metadata": {},
     "output_type": "display_data"
    }
   ],
   "source": [
    "sns.barplot(data=title, y='job_title', x='salary_in_usd')"
   ]
  },
  {
   "cell_type": "code",
   "execution_count": null,
   "id": "eff0cdee",
   "metadata": {},
   "outputs": [],
   "source": [
    "gen=df.groupby('company_location')['employee_residence'].count()\n",
    "gen=gen.reset_index().nlargest(6, 'employee_residence')"
   ]
  },
  {
   "cell_type": "code",
   "execution_count": 215,
   "id": "3d6ad2a8",
   "metadata": {},
   "outputs": [
    {
     "data": {
      "text/plain": [
       "<AxesSubplot:xlabel='company_location', ylabel='employee_residence'>"
      ]
     },
     "execution_count": 215,
     "metadata": {},
     "output_type": "execute_result"
    },
    {
     "data": {
      "image/png": "[encoded data removed]",
      "text/plain": [
       "<Figure size 720x432 with 1 Axes>"
      ]
     },
     "metadata": {},
     "output_type": "display_data"
    }
   ],
   "source": [
    "sns.barplot(data=gen,x='company_location',y='employee_residence')"
   ]
  },
  {
   "cell_type": "markdown",
   "id": "a29bd4bd",
   "metadata": {},
   "source": [
    "majority of the staffs and company are situated in US"
   ]
  },
  {
   "cell_type": "code",
   "execution_count": 226,
   "id": "089acd2c",
   "metadata": {},
   "outputs": [],
   "source": [
    "job_loc=df.groupby(['company_location','job_title']).size()"
   ]
  },
  {
   "cell_type": "code",
   "execution_count": 233,
   "id": "cb556089",
   "metadata": {},
   "outputs": [],
   "source": [
    "job_loc=job_loc.reset_index().rename(columns={0:'count'}).sort_values('count', ascending= False)[:10]"
   ]
  },
  {
   "cell_type": "code",
   "execution_count": 235,
   "id": "e41db20c",
   "metadata": {},
   "outputs": [
    {
     "data": {
      "text/plain": [
       "<matplotlib.legend.Legend at 0x1ec5d1e58b0>"
      ]
     },
     "execution_count": 235,
     "metadata": {},
     "output_type": "execute_result"
    },
    {
     "data": {
      "image/png": "[encoded data removed]",
      "text/plain": [
       "<Figure size 720x432 with 1 Axes>"
      ]
     },
     "metadata": {},
     "output_type": "display_data"
    }
   ],
   "source": [
    "sns.barplot(data=job_loc,x='company_location',y='count', hue='job_title')\n",
    "plt.legend(loc=1)"
   ]
  },
  {
   "cell_type": "markdown",
   "id": "7b6be6aa",
   "metadata": {},
   "source": [
    "US is really the technological hub for all data spacialist"
   ]
  },
  {
   "cell_type": "code",
   "execution_count": 36,
   "id": "282247d1",
   "metadata": {},
   "outputs": [],
   "source": [
    "final=df.groupby(['experience_level','salary_in_usd','job_title']).size()"
   ]
  },
  {
   "cell_type": "code",
   "execution_count": 37,
   "id": "7ac33664",
   "metadata": {},
   "outputs": [
    {
     "data": {
      "text/plain": [
       "experience_level  salary_in_usd  job_title              \n",
       "Entry-level       4000           Data Scientist             1\n",
       "                  5707           Data Science Consultant    1\n",
       "                  5882           Big Data Engineer          1\n",
       "                  6072           Data Analyst               1\n",
       "                  9272           BI Data Analyst            1\n",
       "                                                           ..\n",
       "Senior-level      266400         Data Architect             1\n",
       "                  276000         Lead Data Engineer         1\n",
       "                  380000         Applied Data Scientist     1\n",
       "                  405000         Data Analytics Lead        1\n",
       "                  412000         Data Scientist             1\n",
       "Length: 527, dtype: int64"
      ]
     },
     "execution_count": 37,
     "metadata": {},
     "output_type": "execute_result"
    }
   ],
   "source": [
    "fog"
   ]
  },
  {
   "cell_type": "code",
   "execution_count": 38,
   "id": "1f73258b",
   "metadata": {},
   "outputs": [],
   "source": [
    "fog=fog.reset_index().rename(columns={0:'count'}).sort_values('count', ascending=False)"
   ]
  },
  {
   "cell_type": "code",
   "execution_count": 58,
   "id": "f37d1673",
   "metadata": {},
   "outputs": [],
   "source": [
    "fog=fog[:100]"
   ]
  },
  {
   "cell_type": "code",
   "execution_count": 59,
   "id": "e9987446",
   "metadata": {},
   "outputs": [
    {
     "data": {
      "image/png": "[encoded data removed]",
      "text/plain": [
       "<Figure size 1440x576 with 1 Axes>"
      ]
     },
     "metadata": {},
     "output_type": "display_data"
    }
   ],
   "source": [
    "sns.scatterplot(data=fog, x='job_title', y='salary_in_usd',hue='experience_level')\n",
    "sns.set(rc = {'figure.figsize':(20,8)})"
   ]
  },
  {
   "cell_type": "code",
   "execution_count": 60,
   "id": "ed826a18",
   "metadata": {},
   "outputs": [],
   "source": [
    "Exec=df.query('experience_level==\"Executive-level\"')"
   ]
  },
  {
   "cell_type": "code",
   "execution_count": 66,
   "id": "c52726f8",
   "metadata": {},
   "outputs": [
    {
     "data": {
      "text/html": [
       "<div>\n",
       "<style scoped>\n",
       "    .dataframe tbody tr th:only-of-type {\n",
       "        vertical-align: middle;\n",
       "    }\n",
       "\n",
       "    .dataframe tbody tr th {\n",
       "        vertical-align: top;\n",
       "    }\n",
       "\n",
       "    .dataframe thead th {\n",
       "        text-align: right;\n",
       "    }\n",
       "</style>\n",
       "<table border=\"1\" class=\"dataframe\">\n",
       "  <thead>\n",
       "    <tr style=\"text-align: right;\">\n",
       "      <th></th>\n",
       "      <th>count</th>\n",
       "      <th>unique</th>\n",
       "      <th>top</th>\n",
       "      <th>freq</th>\n",
       "      <th>mean</th>\n",
       "      <th>std</th>\n",
       "      <th>min</th>\n",
       "      <th>25%</th>\n",
       "      <th>50%</th>\n",
       "      <th>75%</th>\n",
       "      <th>max</th>\n",
       "    </tr>\n",
       "  </thead>\n",
       "  <tbody>\n",
       "    <tr>\n",
       "      <th>work_year</th>\n",
       "      <td>26.0</td>\n",
       "      <td>NaN</td>\n",
       "      <td>NaN</td>\n",
       "      <td>NaN</td>\n",
       "      <td>2021.423077</td>\n",
       "      <td>0.643309</td>\n",
       "      <td>2020.0</td>\n",
       "      <td>2021.0</td>\n",
       "      <td>2021.5</td>\n",
       "      <td>2022.0</td>\n",
       "      <td>2022.0</td>\n",
       "    </tr>\n",
       "    <tr>\n",
       "      <th>experience_level</th>\n",
       "      <td>26</td>\n",
       "      <td>1</td>\n",
       "      <td>Executive-level</td>\n",
       "      <td>26</td>\n",
       "      <td>NaN</td>\n",
       "      <td>NaN</td>\n",
       "      <td>NaN</td>\n",
       "      <td>NaN</td>\n",
       "      <td>NaN</td>\n",
       "      <td>NaN</td>\n",
       "      <td>NaN</td>\n",
       "    </tr>\n",
       "    <tr>\n",
       "      <th>employment_type</th>\n",
       "      <td>26</td>\n",
       "      <td>2</td>\n",
       "      <td>Full-time</td>\n",
       "      <td>25</td>\n",
       "      <td>NaN</td>\n",
       "      <td>NaN</td>\n",
       "      <td>NaN</td>\n",
       "      <td>NaN</td>\n",
       "      <td>NaN</td>\n",
       "      <td>NaN</td>\n",
       "      <td>NaN</td>\n",
       "    </tr>\n",
       "    <tr>\n",
       "      <th>job_title</th>\n",
       "      <td>26</td>\n",
       "      <td>13</td>\n",
       "      <td>Director of Data Science</td>\n",
       "      <td>6</td>\n",
       "      <td>NaN</td>\n",
       "      <td>NaN</td>\n",
       "      <td>NaN</td>\n",
       "      <td>NaN</td>\n",
       "      <td>NaN</td>\n",
       "      <td>NaN</td>\n",
       "      <td>NaN</td>\n",
       "    </tr>\n",
       "    <tr>\n",
       "      <th>salary_in_usd</th>\n",
       "      <td>26.0</td>\n",
       "      <td>NaN</td>\n",
       "      <td>NaN</td>\n",
       "      <td>NaN</td>\n",
       "      <td>199392.038462</td>\n",
       "      <td>117071.255697</td>\n",
       "      <td>69741.0</td>\n",
       "      <td>130006.5</td>\n",
       "      <td>171437.5</td>\n",
       "      <td>233750.0</td>\n",
       "      <td>600000.0</td>\n",
       "    </tr>\n",
       "    <tr>\n",
       "      <th>employee_residence</th>\n",
       "      <td>26</td>\n",
       "      <td>8</td>\n",
       "      <td>US</td>\n",
       "      <td>15</td>\n",
       "      <td>NaN</td>\n",
       "      <td>NaN</td>\n",
       "      <td>NaN</td>\n",
       "      <td>NaN</td>\n",
       "      <td>NaN</td>\n",
       "      <td>NaN</td>\n",
       "      <td>NaN</td>\n",
       "    </tr>\n",
       "    <tr>\n",
       "      <th>remote_ratio</th>\n",
       "      <td>26</td>\n",
       "      <td>3</td>\n",
       "      <td>Remote</td>\n",
       "      <td>18</td>\n",
       "      <td>NaN</td>\n",
       "      <td>NaN</td>\n",
       "      <td>NaN</td>\n",
       "      <td>NaN</td>\n",
       "      <td>NaN</td>\n",
       "      <td>NaN</td>\n",
       "      <td>NaN</td>\n",
       "    </tr>\n",
       "    <tr>\n",
       "      <th>company_location</th>\n",
       "      <td>26</td>\n",
       "      <td>7</td>\n",
       "      <td>US</td>\n",
       "      <td>16</td>\n",
       "      <td>NaN</td>\n",
       "      <td>NaN</td>\n",
       "      <td>NaN</td>\n",
       "      <td>NaN</td>\n",
       "      <td>NaN</td>\n",
       "      <td>NaN</td>\n",
       "      <td>NaN</td>\n",
       "    </tr>\n",
       "    <tr>\n",
       "      <th>company_size</th>\n",
       "      <td>26</td>\n",
       "      <td>3</td>\n",
       "      <td>Medium</td>\n",
       "      <td>12</td>\n",
       "      <td>NaN</td>\n",
       "      <td>NaN</td>\n",
       "      <td>NaN</td>\n",
       "      <td>NaN</td>\n",
       "      <td>NaN</td>\n",
       "      <td>NaN</td>\n",
       "      <td>NaN</td>\n",
       "    </tr>\n",
       "  </tbody>\n",
       "</table>\n",
       "</div>"
      ],
      "text/plain": [
       "                   count unique                       top freq           mean  \\\n",
       "work_year           26.0    NaN                       NaN  NaN    2021.423077   \n",
       "experience_level      26      1           Executive-level   26            NaN   \n",
       "employment_type       26      2                 Full-time   25            NaN   \n",
       "job_title             26     13  Director of Data Science    6            NaN   \n",
       "salary_in_usd       26.0    NaN                       NaN  NaN  199392.038462   \n",
       "employee_residence    26      8                        US   15            NaN   \n",
       "remote_ratio          26      3                    Remote   18            NaN   \n",
       "company_location      26      7                        US   16            NaN   \n",
       "company_size          26      3                    Medium   12            NaN   \n",
       "\n",
       "                              std      min       25%       50%       75%  \\\n",
       "work_year                0.643309   2020.0    2021.0    2021.5    2022.0   \n",
       "experience_level              NaN      NaN       NaN       NaN       NaN   \n",
       "employment_type               NaN      NaN       NaN       NaN       NaN   \n",
       "job_title                     NaN      NaN       NaN       NaN       NaN   \n",
       "salary_in_usd       117071.255697  69741.0  130006.5  171437.5  233750.0   \n",
       "employee_residence            NaN      NaN       NaN       NaN       NaN   \n",
       "remote_ratio                  NaN      NaN       NaN       NaN       NaN   \n",
       "company_location              NaN      NaN       NaN       NaN       NaN   \n",
       "company_size                  NaN      NaN       NaN       NaN       NaN   \n",
       "\n",
       "                         max  \n",
       "work_year             2022.0  \n",
       "experience_level         NaN  \n",
       "employment_type          NaN  \n",
       "job_title                NaN  \n",
       "salary_in_usd       600000.0  \n",
       "employee_residence       NaN  \n",
       "remote_ratio             NaN  \n",
       "company_location         NaN  \n",
       "company_size             NaN  "
      ]
     },
     "execution_count": 66,
     "metadata": {},
     "output_type": "execute_result"
    }
   ],
   "source": [
    "Exec.describe(include='all').T"
   ]
  },
  {
   "cell_type": "code",
   "execution_count": 62,
   "id": "b8141559",
   "metadata": {},
   "outputs": [
    {
     "data": {
      "text/html": [
       "<div>\n",
       "<style scoped>\n",
       "    .dataframe tbody tr th:only-of-type {\n",
       "        vertical-align: middle;\n",
       "    }\n",
       "\n",
       "    .dataframe tbody tr th {\n",
       "        vertical-align: top;\n",
       "    }\n",
       "\n",
       "    .dataframe thead th {\n",
       "        text-align: right;\n",
       "    }\n",
       "</style>\n",
       "<table border=\"1\" class=\"dataframe\">\n",
       "  <thead>\n",
       "    <tr style=\"text-align: right;\">\n",
       "      <th></th>\n",
       "      <th>work_year</th>\n",
       "      <th>experience_level</th>\n",
       "      <th>employment_type</th>\n",
       "      <th>job_title</th>\n",
       "      <th>salary_in_usd</th>\n",
       "      <th>employee_residence</th>\n",
       "      <th>remote_ratio</th>\n",
       "      <th>company_location</th>\n",
       "      <th>company_size</th>\n",
       "    </tr>\n",
       "  </thead>\n",
       "  <tbody>\n",
       "    <tr>\n",
       "      <th>25</th>\n",
       "      <td>2020</td>\n",
       "      <td>Executive-level</td>\n",
       "      <td>Full-time</td>\n",
       "      <td>Director of Data Science</td>\n",
       "      <td>325000</td>\n",
       "      <td>US</td>\n",
       "      <td>Remote</td>\n",
       "      <td>US</td>\n",
       "      <td>Large</td>\n",
       "    </tr>\n",
       "    <tr>\n",
       "      <th>41</th>\n",
       "      <td>2020</td>\n",
       "      <td>Executive-level</td>\n",
       "      <td>Full-time</td>\n",
       "      <td>Data Engineering Manager</td>\n",
       "      <td>79833</td>\n",
       "      <td>ES</td>\n",
       "      <td>Hybrid</td>\n",
       "      <td>ES</td>\n",
       "      <td>Large</td>\n",
       "    </tr>\n",
       "    <tr>\n",
       "      <th>73</th>\n",
       "      <td>2021</td>\n",
       "      <td>Executive-level</td>\n",
       "      <td>Full-time</td>\n",
       "      <td>BI Data Analyst</td>\n",
       "      <td>150000</td>\n",
       "      <td>IN</td>\n",
       "      <td>Remote</td>\n",
       "      <td>US</td>\n",
       "      <td>Large</td>\n",
       "    </tr>\n",
       "    <tr>\n",
       "      <th>74</th>\n",
       "      <td>2021</td>\n",
       "      <td>Executive-level</td>\n",
       "      <td>Full-time</td>\n",
       "      <td>Head of Data</td>\n",
       "      <td>235000</td>\n",
       "      <td>US</td>\n",
       "      <td>Remote</td>\n",
       "      <td>US</td>\n",
       "      <td>Large</td>\n",
       "    </tr>\n",
       "    <tr>\n",
       "      <th>84</th>\n",
       "      <td>2021</td>\n",
       "      <td>Executive-level</td>\n",
       "      <td>Full-time</td>\n",
       "      <td>Director of Data Science</td>\n",
       "      <td>153667</td>\n",
       "      <td>IT</td>\n",
       "      <td>Remote</td>\n",
       "      <td>PL</td>\n",
       "      <td>Large</td>\n",
       "    </tr>\n",
       "    <tr>\n",
       "      <th>160</th>\n",
       "      <td>2021</td>\n",
       "      <td>Executive-level</td>\n",
       "      <td>Full-time</td>\n",
       "      <td>Head of Data</td>\n",
       "      <td>230000</td>\n",
       "      <td>RU</td>\n",
       "      <td>Hybrid</td>\n",
       "      <td>RU</td>\n",
       "      <td>Large</td>\n",
       "    </tr>\n",
       "    <tr>\n",
       "      <th>161</th>\n",
       "      <td>2021</td>\n",
       "      <td>Executive-level</td>\n",
       "      <td>Full-time</td>\n",
       "      <td>Head of Data Science</td>\n",
       "      <td>85000</td>\n",
       "      <td>RU</td>\n",
       "      <td>Onsite</td>\n",
       "      <td>RU</td>\n",
       "      <td>Medium</td>\n",
       "    </tr>\n",
       "    <tr>\n",
       "      <th>164</th>\n",
       "      <td>2021</td>\n",
       "      <td>Executive-level</td>\n",
       "      <td>Full-time</td>\n",
       "      <td>Director of Data Science</td>\n",
       "      <td>130026</td>\n",
       "      <td>DE</td>\n",
       "      <td>Hybrid</td>\n",
       "      <td>DE</td>\n",
       "      <td>Medium</td>\n",
       "    </tr>\n",
       "    <tr>\n",
       "      <th>167</th>\n",
       "      <td>2021</td>\n",
       "      <td>Executive-level</td>\n",
       "      <td>Full-time</td>\n",
       "      <td>Director of Data Science</td>\n",
       "      <td>250000</td>\n",
       "      <td>US</td>\n",
       "      <td>Onsite</td>\n",
       "      <td>US</td>\n",
       "      <td>Large</td>\n",
       "    </tr>\n",
       "    <tr>\n",
       "      <th>187</th>\n",
       "      <td>2021</td>\n",
       "      <td>Executive-level</td>\n",
       "      <td>Full-time</td>\n",
       "      <td>Data Science Consultant</td>\n",
       "      <td>69741</td>\n",
       "      <td>FR</td>\n",
       "      <td>Remote</td>\n",
       "      <td>ES</td>\n",
       "      <td>Small</td>\n",
       "    </tr>\n",
       "    <tr>\n",
       "      <th>225</th>\n",
       "      <td>2021</td>\n",
       "      <td>Executive-level</td>\n",
       "      <td>Contract</td>\n",
       "      <td>Principal Data Scientist</td>\n",
       "      <td>416000</td>\n",
       "      <td>US</td>\n",
       "      <td>Remote</td>\n",
       "      <td>US</td>\n",
       "      <td>Small</td>\n",
       "    </tr>\n",
       "    <tr>\n",
       "      <th>252</th>\n",
       "      <td>2021</td>\n",
       "      <td>Executive-level</td>\n",
       "      <td>Full-time</td>\n",
       "      <td>Principal Data Engineer</td>\n",
       "      <td>600000</td>\n",
       "      <td>US</td>\n",
       "      <td>Remote</td>\n",
       "      <td>US</td>\n",
       "      <td>Large</td>\n",
       "    </tr>\n",
       "    <tr>\n",
       "      <th>259</th>\n",
       "      <td>2021</td>\n",
       "      <td>Executive-level</td>\n",
       "      <td>Full-time</td>\n",
       "      <td>Director of Data Science</td>\n",
       "      <td>141846</td>\n",
       "      <td>DE</td>\n",
       "      <td>Onsite</td>\n",
       "      <td>DE</td>\n",
       "      <td>Large</td>\n",
       "    </tr>\n",
       "    <tr>\n",
       "      <th>309</th>\n",
       "      <td>2022</td>\n",
       "      <td>Executive-level</td>\n",
       "      <td>Full-time</td>\n",
       "      <td>Data Engineer</td>\n",
       "      <td>242000</td>\n",
       "      <td>US</td>\n",
       "      <td>Remote</td>\n",
       "      <td>US</td>\n",
       "      <td>Medium</td>\n",
       "    </tr>\n",
       "    <tr>\n",
       "      <th>310</th>\n",
       "      <td>2022</td>\n",
       "      <td>Executive-level</td>\n",
       "      <td>Full-time</td>\n",
       "      <td>Data Engineer</td>\n",
       "      <td>200000</td>\n",
       "      <td>US</td>\n",
       "      <td>Remote</td>\n",
       "      <td>US</td>\n",
       "      <td>Medium</td>\n",
       "    </tr>\n",
       "    <tr>\n",
       "      <th>326</th>\n",
       "      <td>2022</td>\n",
       "      <td>Executive-level</td>\n",
       "      <td>Full-time</td>\n",
       "      <td>Data Analyst</td>\n",
       "      <td>130000</td>\n",
       "      <td>US</td>\n",
       "      <td>Remote</td>\n",
       "      <td>US</td>\n",
       "      <td>Medium</td>\n",
       "    </tr>\n",
       "    <tr>\n",
       "      <th>327</th>\n",
       "      <td>2022</td>\n",
       "      <td>Executive-level</td>\n",
       "      <td>Full-time</td>\n",
       "      <td>Data Analyst</td>\n",
       "      <td>110000</td>\n",
       "      <td>US</td>\n",
       "      <td>Remote</td>\n",
       "      <td>US</td>\n",
       "      <td>Medium</td>\n",
       "    </tr>\n",
       "    <tr>\n",
       "      <th>342</th>\n",
       "      <td>2022</td>\n",
       "      <td>Executive-level</td>\n",
       "      <td>Full-time</td>\n",
       "      <td>Head of Data Science</td>\n",
       "      <td>224000</td>\n",
       "      <td>US</td>\n",
       "      <td>Remote</td>\n",
       "      <td>US</td>\n",
       "      <td>Medium</td>\n",
       "    </tr>\n",
       "    <tr>\n",
       "      <th>343</th>\n",
       "      <td>2022</td>\n",
       "      <td>Executive-level</td>\n",
       "      <td>Full-time</td>\n",
       "      <td>Head of Data Science</td>\n",
       "      <td>167875</td>\n",
       "      <td>US</td>\n",
       "      <td>Remote</td>\n",
       "      <td>US</td>\n",
       "      <td>Medium</td>\n",
       "    </tr>\n",
       "    <tr>\n",
       "      <th>344</th>\n",
       "      <td>2022</td>\n",
       "      <td>Executive-level</td>\n",
       "      <td>Full-time</td>\n",
       "      <td>Analytics Engineer</td>\n",
       "      <td>175000</td>\n",
       "      <td>US</td>\n",
       "      <td>Remote</td>\n",
       "      <td>US</td>\n",
       "      <td>Medium</td>\n",
       "    </tr>\n",
       "    <tr>\n",
       "      <th>368</th>\n",
       "      <td>2022</td>\n",
       "      <td>Executive-level</td>\n",
       "      <td>Full-time</td>\n",
       "      <td>Analytics Engineer</td>\n",
       "      <td>135000</td>\n",
       "      <td>US</td>\n",
       "      <td>Remote</td>\n",
       "      <td>US</td>\n",
       "      <td>Medium</td>\n",
       "    </tr>\n",
       "    <tr>\n",
       "      <th>375</th>\n",
       "      <td>2022</td>\n",
       "      <td>Executive-level</td>\n",
       "      <td>Full-time</td>\n",
       "      <td>Lead Data Engineer</td>\n",
       "      <td>118187</td>\n",
       "      <td>CA</td>\n",
       "      <td>Remote</td>\n",
       "      <td>CA</td>\n",
       "      <td>Small</td>\n",
       "    </tr>\n",
       "    <tr>\n",
       "      <th>384</th>\n",
       "      <td>2022</td>\n",
       "      <td>Executive-level</td>\n",
       "      <td>Full-time</td>\n",
       "      <td>Head of Machine Learning</td>\n",
       "      <td>79039</td>\n",
       "      <td>IN</td>\n",
       "      <td>Hybrid</td>\n",
       "      <td>IN</td>\n",
       "      <td>Large</td>\n",
       "    </tr>\n",
       "    <tr>\n",
       "      <th>452</th>\n",
       "      <td>2022</td>\n",
       "      <td>Executive-level</td>\n",
       "      <td>Full-time</td>\n",
       "      <td>Director of Data Science</td>\n",
       "      <td>196979</td>\n",
       "      <td>CA</td>\n",
       "      <td>Hybrid</td>\n",
       "      <td>CA</td>\n",
       "      <td>Large</td>\n",
       "    </tr>\n",
       "    <tr>\n",
       "      <th>482</th>\n",
       "      <td>2022</td>\n",
       "      <td>Executive-level</td>\n",
       "      <td>Full-time</td>\n",
       "      <td>Data Engineer</td>\n",
       "      <td>324000</td>\n",
       "      <td>US</td>\n",
       "      <td>Remote</td>\n",
       "      <td>US</td>\n",
       "      <td>Medium</td>\n",
       "    </tr>\n",
       "    <tr>\n",
       "      <th>483</th>\n",
       "      <td>2022</td>\n",
       "      <td>Executive-level</td>\n",
       "      <td>Full-time</td>\n",
       "      <td>Data Engineer</td>\n",
       "      <td>216000</td>\n",
       "      <td>US</td>\n",
       "      <td>Remote</td>\n",
       "      <td>US</td>\n",
       "      <td>Medium</td>\n",
       "    </tr>\n",
       "  </tbody>\n",
       "</table>\n",
       "</div>"
      ],
      "text/plain": [
       "     work_year experience_level employment_type                 job_title  \\\n",
       "25        2020  Executive-level       Full-time  Director of Data Science   \n",
       "41        2020  Executive-level       Full-time  Data Engineering Manager   \n",
       "73        2021  Executive-level       Full-time           BI Data Analyst   \n",
       "74        2021  Executive-level       Full-time              Head of Data   \n",
       "84        2021  Executive-level       Full-time  Director of Data Science   \n",
       "160       2021  Executive-level       Full-time              Head of Data   \n",
       "161       2021  Executive-level       Full-time      Head of Data Science   \n",
       "164       2021  Executive-level       Full-time  Director of Data Science   \n",
       "167       2021  Executive-level       Full-time  Director of Data Science   \n",
       "187       2021  Executive-level       Full-time   Data Science Consultant   \n",
       "225       2021  Executive-level        Contract  Principal Data Scientist   \n",
       "252       2021  Executive-level       Full-time   Principal Data Engineer   \n",
       "259       2021  Executive-level       Full-time  Director of Data Science   \n",
       "309       2022  Executive-level       Full-time             Data Engineer   \n",
       "310       2022  Executive-level       Full-time             Data Engineer   \n",
       "326       2022  Executive-level       Full-time              Data Analyst   \n",
       "327       2022  Executive-level       Full-time              Data Analyst   \n",
       "342       2022  Executive-level       Full-time      Head of Data Science   \n",
       "343       2022  Executive-level       Full-time      Head of Data Science   \n",
       "344       2022  Executive-level       Full-time        Analytics Engineer   \n",
       "368       2022  Executive-level       Full-time        Analytics Engineer   \n",
       "375       2022  Executive-level       Full-time        Lead Data Engineer   \n",
       "384       2022  Executive-level       Full-time  Head of Machine Learning   \n",
       "452       2022  Executive-level       Full-time  Director of Data Science   \n",
       "482       2022  Executive-level       Full-time             Data Engineer   \n",
       "483       2022  Executive-level       Full-time             Data Engineer   \n",
       "\n",
       "     salary_in_usd employee_residence remote_ratio company_location  \\\n",
       "25          325000                 US       Remote               US   \n",
       "41           79833                 ES       Hybrid               ES   \n",
       "73          150000                 IN       Remote               US   \n",
       "74          235000                 US       Remote               US   \n",
       "84          153667                 IT       Remote               PL   \n",
       "160         230000                 RU       Hybrid               RU   \n",
       "161          85000                 RU       Onsite               RU   \n",
       "164         130026                 DE       Hybrid               DE   \n",
       "167         250000                 US       Onsite               US   \n",
       "187          69741                 FR       Remote               ES   \n",
       "225         416000                 US       Remote               US   \n",
       "252         600000                 US       Remote               US   \n",
       "259         141846                 DE       Onsite               DE   \n",
       "309         242000                 US       Remote               US   \n",
       "310         200000                 US       Remote               US   \n",
       "326         130000                 US       Remote               US   \n",
       "327         110000                 US       Remote               US   \n",
       "342         224000                 US       Remote               US   \n",
       "343         167875                 US       Remote               US   \n",
       "344         175000                 US       Remote               US   \n",
       "368         135000                 US       Remote               US   \n",
       "375         118187                 CA       Remote               CA   \n",
       "384          79039                 IN       Hybrid               IN   \n",
       "452         196979                 CA       Hybrid               CA   \n",
       "482         324000                 US       Remote               US   \n",
       "483         216000                 US       Remote               US   \n",
       "\n",
       "    company_size  \n",
       "25         Large  \n",
       "41         Large  \n",
       "73         Large  \n",
       "74         Large  \n",
       "84         Large  \n",
       "160        Large  \n",
       "161       Medium  \n",
       "164       Medium  \n",
       "167        Large  \n",
       "187        Small  \n",
       "225        Small  \n",
       "252        Large  \n",
       "259        Large  \n",
       "309       Medium  \n",
       "310       Medium  \n",
       "326       Medium  \n",
       "327       Medium  \n",
       "342       Medium  \n",
       "343       Medium  \n",
       "344       Medium  \n",
       "368       Medium  \n",
       "375        Small  \n",
       "384        Large  \n",
       "452        Large  \n",
       "482       Medium  \n",
       "483       Medium  "
      ]
     },
     "execution_count": 62,
     "metadata": {},
     "output_type": "execute_result"
    }
   ],
   "source": [
    "Exec"
   ]
  },
  {
   "cell_type": "code",
   "execution_count": null,
   "id": "c54b9312",
   "metadata": {},
   "outputs": [],
   "source": []
  }
 ],
 "metadata": {
  "kernelspec": {
   "display_name": "Python 3 (ipykernel)",
   "language": "python",
   "name": "python3"
  },
  "language_info": {
   "codemirror_mode": {
    "name": "ipython",
    "version": 3
   },
   "file_extension": ".py",
   "mimetype": "text/x-python",
   "name": "python",
   "nbconvert_exporter": "python",
   "pygments_lexer": "ipython3",
   "version": "3.9.7"
  }
 },
 "nbformat": 4,
 "nbformat_minor": 5
}
